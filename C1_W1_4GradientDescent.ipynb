{
 "cells": [
  {
   "cell_type": "markdown",
   "id": "caa8f1dd-6cfe-4e00-8c00-579557022b39",
   "metadata": {},
   "source": [
    "# Gradient Descent for Linear Regression\n",
    "\n",
    "Goals: Automate the process of optimizing w and b using gradient descent"
   ]
  },
  {
   "cell_type": "code",
   "execution_count": 1,
   "id": "adad9eb6-09e9-4ce7-bd58-22916f3d2de7",
   "metadata": {},
   "outputs": [],
   "source": [
    "import math, copy\n",
    "import numpy as np\n",
    "import matplotlib.pyplot as plt\n",
    "import seaborn as sns\n",
    "sns.set_style('darkgrid')"
   ]
  },
  {
   "cell_type": "markdown",
   "id": "35575b9d-1cae-419e-a38c-852d15419199",
   "metadata": {},
   "source": [
    "<a name=\"toc_40291_2\"></a>\n",
    "# Problem Statement\n",
    "\n",
    "Let's use the same two data points as before - a house with 1000 square feet sold for \\\\$300,000 and a house with 2000 square feet sold for \\\\$500,000.\n",
    "\n",
    "| Size (1000 sqft)     | Price (1000s of dollars) |\n",
    "| ----------------| ------------------------ |\n",
    "| 1               | 300                      |\n",
    "| 2               | 500                      |\n"
   ]
  },
  {
   "cell_type": "code",
   "execution_count": 2,
   "id": "a0e8b35b-aa36-4235-818f-46293347d133",
   "metadata": {},
   "outputs": [],
   "source": [
    "# load our data set\n",
    "x_train = np.array([1.,2.]) # features\n",
    "y_train = np.array([300., 500.]) # target value "
   ]
  },
  {
   "cell_type": "markdown",
   "id": "2a071151-b393-47a1-9fa9-aa206c9e9630",
   "metadata": {},
   "source": [
    "### Compute_Cost"
   ]
  },
  {
   "cell_type": "code",
   "execution_count": 3,
   "id": "688b38c5-94e3-4964-8f24-9e015566b465",
   "metadata": {},
   "outputs": [],
   "source": [
    "# function to calculate the cost \n",
    "def compute_cost(x, y, w, b):\n",
    "    m = x.shape[0]\n",
    "    cost = 0\n",
    "    \n",
    "    for i in range(m):\n",
    "        f_wb = w * x[i] + b\n",
    "        cost = cost + (f_wb - y[i])**2\n",
    "    total_cost = 1 / (2 * m) * cost\n",
    "    \n",
    "    return total_cost"
   ]
  },
  {
   "cell_type": "markdown",
   "id": "b971d4a8-872d-467b-9e37-04d320c9900c",
   "metadata": {},
   "source": [
    "<a name=\"toc_40291_2.1\"></a>\n",
    "## Gradient descent summary\n",
    "So far in this course, you have developed a linear model that predicts $f_{w,b}(x^{(i)})$:\n",
    "$$f_{w,b}(x^{(i)}) = wx^{(i)} + b \\tag{1}$$\n",
    "In linear regression, you utilize input training data to fit the parameters $w$,$b$ by minimizing a measure of the error between our predictions $f_{w,b}(x^{(i)})$ and the actual data $y^{(i)}$. The measure is called the $cost$, $J(w,b)$. In training you measure the cost over all of our training samples $x^{(i)},y^{(i)}$\n",
    "$$J(w,b) = \\frac{1}{2m} \\sum\\limits_{i = 0}^{m-1} (f_{w,b}(x^{(i)}) - y^{(i)})^2\\tag{2}$$ "
   ]
  },
  {
   "cell_type": "markdown",
   "id": "86ce87a5-e4f7-468f-8a67-7d1cb98e8cbd",
   "metadata": {},
   "source": [
    "In lecture, *gradient descent* was described as:\n",
    "\n",
    "$$\\begin{align*} \\text{repeat}&\\text{ until convergence:} \\; \\lbrace \\newline\n",
    "\\;  w &= w -  \\alpha \\frac{\\partial J(w,b)}{\\partial w} \\tag{3}  \\; \\newline \n",
    " b &= b -  \\alpha \\frac{\\partial J(w,b)}{\\partial b}  \\newline \\rbrace\n",
    "\\end{align*}$$\n",
    "where, parameters $w$, $b$ are updated simultaneously.  \n",
    "The gradient is defined as:\n",
    "$$\n",
    "\\begin{align}\n",
    "\\frac{\\partial J(w,b)}{\\partial w}  &= \\frac{1}{m} \\sum\\limits_{i = 0}^{m-1} (f_{w,b}(x^{(i)}) - y^{(i)})x^{(i)} \\tag{4}\\\\\n",
    "  \\frac{\\partial J(w,b)}{\\partial b}  &= \\frac{1}{m} \\sum\\limits_{i = 0}^{m-1} (f_{w,b}(x^{(i)}) - y^{(i)}) \\tag{5}\\\\\n",
    "\\end{align}\n",
    "$$\n",
    "\n",
    "Here *simultaniously* means that you calculate the partial derivatives for all the parameters before updating any of the parameters."
   ]
  },
  {
   "cell_type": "markdown",
   "id": "a526251e-a211-40f4-8ead-8c9bb79be9fd",
   "metadata": {},
   "source": [
    "<a name=\"toc_40291_2.2\"></a>\n",
    "## Implement Gradient Descent\n",
    "You will implement gradient descent algorithm for one feature. You will need three functions. \n",
    "- `compute_gradient` implementing equation (4) and (5) above\n",
    "- `compute_cost` implementing equation (2) above (code from previous lab)\n",
    "- `gradient_descent`, utilizing compute_gradient and compute_cost\n",
    "\n",
    "Conventions:\n",
    "- The naming of python variables containing partial derivatives follows this pattern,$\\frac{\\partial J(w,b)}{\\partial b}$  will be `dj_db`.\n",
    "- w.r.t is With Respect To, as in partial derivative of $J(wb)$ With Respect To $b$.\n"
   ]
  },
  {
   "cell_type": "markdown",
   "id": "7217f6b4-9370-4baf-8f12-f344093ac224",
   "metadata": {},
   "source": [
    "<a name=\"toc_40291_2.3\"></a>\n",
    "### compute_gradient\n",
    "<a name='ex-01'></a>\n",
    "`compute_gradient`  implements (4) and (5) above and returns $\\frac{\\partial J(w,b)}{\\partial w}$,$\\frac{\\partial J(w,b)}{\\partial b}$. The embedded comments describe the operations."
   ]
  },
  {
   "cell_type": "code",
   "execution_count": 4,
   "id": "4267a305-acd8-4901-b11c-e24cf0c56926",
   "metadata": {},
   "outputs": [],
   "source": [
    "def compute_gradient(x, y, w, b):\n",
    "    \"\"\"\n",
    "    Compute the gradient for linear regression (does not include the alpha learning rate)\n",
    "    Args:\n",
    "      x (ndarray (m,)): Data, m examples \n",
    "      y (ndarray (m,)): target values\n",
    "      w,b (scalar)    : model parameters  \n",
    "    Returns\n",
    "      dj_dw (scalar): The gradient of the cost w.r.t the parameter w\n",
    "      dj_db (scalar): The gradient of the cost w.r.t the parameter b\n",
    "    \"\"\"\n",
    "    # number of training examples\n",
    "    m = x.shape[0]\n",
    "    dj_dw = 0\n",
    "    dj_db = 0\n",
    "    \n",
    "    for i in range(m):\n",
    "        f_wb = w * x[i] + b \n",
    "        dj_dw_i = (f_wb - y[i]) * x[i]\n",
    "        dj_db_i = f_wb - y[i]\n",
    "        dj_dw += dj_dw_i\n",
    "        dj_db += dj_db_i\n",
    "    return dj_dw, dj_db\n",
    "        "
   ]
  },
  {
   "cell_type": "markdown",
   "id": "faee6771-4366-4fe6-8c18-bb657c4b3fcc",
   "metadata": {},
   "source": [
    "The lectures described how gradient descent utilizes the partial derivative of the cost with respect to a parameter at a point to update that parameter.   \n",
    "Let's use our `compute_gradient` function to find and plot some partial derivatives of our cost function relative to one of the parameters, $w_0$.\n"
   ]
  },
  {
   "cell_type": "markdown",
   "id": "22020cd1-8c76-4c50-8e58-c60411f62927",
   "metadata": {},
   "source": [
    "<a name=\"toc_40291_2.5\"></a>\n",
    "###  Gradient Descent\n",
    "Now that gradients can be computed,  gradient descent, described in equation (3) above can be implemented below in `gradient_descent`. The details of the implementation are described in the comments. Below, you will utilize this function to find optimal values of $w$ and $b$ on the training data."
   ]
  },
  {
   "cell_type": "code",
   "execution_count": 5,
   "id": "05046fad-8dbf-4c03-924d-65e871ad68ba",
   "metadata": {},
   "outputs": [],
   "source": [
    "def gradient_descent(x, y, w_in, b_in, alpha, num_iters, cost_function, compute_gradient):\n",
    "    \"\"\"\n",
    "      Performs gradient descent to fit w,b. Updates w,b by taking \n",
    "      num_iters gradient steps with learning rate alpha\n",
    "\n",
    "      Args:\n",
    "        x (ndarray (m,))  : Data, m examples \n",
    "        y (ndarray (m,))  : target values\n",
    "        w_in,b_in (scalar): initial values of model parameters  \n",
    "        alpha (float):     Learning rate\n",
    "        num_iters (int):   number of iterations to run gradient descent\n",
    "        cost_function:     function to call to produce cost\n",
    "        compute_gradient: function to call to produce gradient\n",
    "\n",
    "      Returns:\n",
    "        w (scalar): Updated value of parameter after running gradient descent\n",
    "        b (scalar): Updated value of parameter after running gradient descent\n",
    "        J_history (List): History of cost values\n",
    "        p_history (list): History of parameters [w,b] \n",
    "    \"\"\"\n",
    "    # an array to store cost J and w's at each iteration primarily for graphing later\n",
    "    J_history = []\n",
    "    p_history = []\n",
    "    b = b_in\n",
    "    w = w_in\n",
    "    \n",
    "    for i in range(num_iters):\n",
    "        # calculate the gradient and update the parameters using compute_gradient\n",
    "        dj_dw, dj_db = compute_gradient(x, y, w, b)\n",
    "        \n",
    "        # update parameters using equation (3) above\n",
    "        b = b - alpha * dj_db\n",
    "        w = w - alpha * dj_dw\n",
    "        \n",
    "        # save cost J at each iteration\n",
    "        if i < 100000:\n",
    "            J_history.append(cost_function(x, y, w, b))\n",
    "            p_history.append([w,b])\n",
    "        # print cost every 10% of total iterations (interval progress update)\n",
    "        if i% math.ceil(num_iters/10) == 0:\n",
    "            print(f\"Iteration {i:4}: Cost {J_history[-1]:0.2e} \",\n",
    "                  f\"dj_dw: {dj_dw: 0.3e}, dj_db: {dj_db: 0.3e}  \",\n",
    "                  f\"w: {w: 0.3e}, b:{b: 0.5e}\")\n",
    "    # return for graphing       \n",
    "    return w, b, J_history, p_history "
   ]
  },
  {
   "cell_type": "code",
   "execution_count": 6,
   "id": "c16a47dc-705b-4020-82f1-6e6c4bb0e596",
   "metadata": {},
   "outputs": [
    {
     "name": "stdout",
     "output_type": "stream",
     "text": [
      "Iteration    0: Cost 7.37e+04  dj_dw: -1.300e+03, dj_db: -8.000e+02   w:  1.300e+01, b: 8.00000e+00\n",
      "Iteration 1000: Cost 7.91e-01  dj_dw: -3.577e-01, dj_db:  5.788e-01   w:  1.976e+02, b: 1.03961e+02\n",
      "Iteration 2000: Cost 4.27e-02  dj_dw: -8.307e-02, dj_db:  1.344e-01   w:  1.994e+02, b: 1.00920e+02\n",
      "Iteration 3000: Cost 2.30e-03  dj_dw: -1.929e-02, dj_db:  3.121e-02   w:  1.999e+02, b: 1.00214e+02\n",
      "Iteration 4000: Cost 1.24e-04  dj_dw: -4.480e-03, dj_db:  7.248e-03   w:  2.000e+02, b: 1.00050e+02\n",
      "Iteration 5000: Cost 6.69e-06  dj_dw: -1.040e-03, dj_db:  1.683e-03   w:  2.000e+02, b: 1.00012e+02\n",
      "Iteration 6000: Cost 3.61e-07  dj_dw: -2.416e-04, dj_db:  3.909e-04   w:  2.000e+02, b: 1.00003e+02\n",
      "Iteration 7000: Cost 1.95e-08  dj_dw: -5.610e-05, dj_db:  9.077e-05   w:  2.000e+02, b: 1.00001e+02\n",
      "Iteration 8000: Cost 1.05e-09  dj_dw: -1.303e-05, dj_db:  2.108e-05   w:  2.000e+02, b: 1.00000e+02\n",
      "Iteration 9000: Cost 5.66e-11  dj_dw: -3.025e-06, dj_db:  4.895e-06   w:  2.000e+02, b: 1.00000e+02\n",
      "(w, b) found by gradient descent: (200.0, 100.0)\n"
     ]
    }
   ],
   "source": [
    "# initialize parameters\n",
    "#x_train = np.array([1.0, 1.7, 2.0, 2.5, 3.0, 3.2])\n",
    "#y_train = np.array([250, 300, 480, 430, 630, 730,])\n",
    "w_in = 0\n",
    "b_in = 0\n",
    "\n",
    "# gradient descent settings\n",
    "iterations = 10000\n",
    "tmp_alpha = 1.0e-2\n",
    "\n",
    "# run gradient descent\n",
    "w_final, b_final, J_hist, p_hist = gradient_descent(x_train, y_train, w_in, b_in, tmp_alpha,\n",
    "                                                   iterations, compute_cost, compute_gradient)\n",
    "\n",
    "print(f'(w, b) found by gradient descent: ({round(w_final, 1)}, {round(b_final, 2)})')"
   ]
  },
  {
   "cell_type": "markdown",
   "id": "8c001b92-b5c8-4220-b3d8-29aed97fd56a",
   "metadata": {},
   "source": [
    "### Cost versus iterations of gradient descent \n",
    "A plot of cost versus iterations is a useful measure of progress in gradient descent. Cost should always decrease in successful runs. The change in cost is so rapid initially, it is useful to plot the initial decent on a different scale than the final descent. In the plots below, note the scale of cost on the axes and the iteration step."
   ]
  },
  {
   "cell_type": "code",
   "execution_count": 7,
   "id": "9b9d8621-14dc-441b-8699-75d4c26023c4",
   "metadata": {},
   "outputs": [
    {
     "data": {
      "text/plain": [
       "[3.1053563285112524e-12,\n",
       " 3.0963016523525156e-12,\n",
       " 3.087273387616937e-12,\n",
       " 3.0782713392140757e-12,\n",
       " 3.069295619434212e-12]"
      ]
     },
     "execution_count": 7,
     "metadata": {},
     "output_type": "execute_result"
    }
   ],
   "source": [
    "J_hist[-6:-1]"
   ]
  },
  {
   "cell_type": "code",
   "execution_count": 8,
   "id": "15ed5d38-e619-4464-b6db-283dd2abe360",
   "metadata": {},
   "outputs": [
    {
     "data": {
      "image/png": "[encoded data removed]",
      "text/plain": [
       "<Figure size 864x288 with 2 Axes>"
      ]
     },
     "metadata": {},
     "output_type": "display_data"
    }
   ],
   "source": [
    "# plot cost versus iteration\n",
    "\n",
    "fig, ax = plt.subplots(1,2, constrained_layout=True, figsize=(12,4))\n",
    "\n",
    "ax[0].plot(np.arange(0,100), J_hist[:100])\n",
    "ax[0].set_title('Cost vs Iteration (First 100)')\n",
    "ax[0].set_ylabel('Cost (J)')\n",
    "ax[0].set_xlabel('Iterations')\n",
    "\n",
    "ax[1].plot(np.arange(1000,10000), J_hist[1000:])\n",
    "ax[1].set_title('Cost vs Iteration (Last 9000)')\n",
    "ax[1].set_ylabel('Cost (J)')\n",
    "ax[1].set_xlabel('Iterations')\n",
    "\n",
    "plt.show()"
   ]
  },
  {
   "cell_type": "markdown",
   "id": "352b4d33-ced9-49e9-adc1-5a7d9db1316e",
   "metadata": {},
   "source": [
    "### Predictions\n",
    "Now that you have discovered the optimal values for the parameters $w$ and $b$, you can now use the model to predict housing values based on our learned parameters. As expected, the predicted values are nearly the same as the training values for the same housing. Further, the value not in the prediction is in line with the expected value.\n",
    "\n",
    "final w = w_final\n",
    "final b = b_final\n",
    "predicted equation (hypothesis): \n",
    "\n",
    "- yhat = w_final(x) + b_final\n",
    "- house price in thousands = 200(house size in thousdands) + 100 "
   ]
  },
  {
   "cell_type": "code",
   "execution_count": 9,
   "id": "ad4e507d-a0f7-434c-86e2-187fa5434975",
   "metadata": {},
   "outputs": [
    {
     "name": "stdout",
     "output_type": "stream",
     "text": [
      "1.0k sqft predicted to be $300.0k\n",
      "1.2k sqft predicted to be $340.0k\n",
      "2.0k sqft predicted to be $500.0k\n"
     ]
    }
   ],
   "source": [
    "# predict price based on 1000, 1200, 2000 sqft\n",
    "size_input = [1., 1.2, 2.]\n",
    "for size in size_input:\n",
    "    price_prediction = round(w_final * size + b_final, 2)\n",
    "    print(f'{size}k sqft predicted to be ${price_prediction}k')"
   ]
  },
  {
   "cell_type": "markdown",
   "id": "40eb67cb-b382-4917-a090-3926b95316a1",
   "metadata": {},
   "source": [
    "<a name=\"toc_40291_2.7.1\"></a>\n",
    "### Learning Rates\n",
    "\n",
    "In the lecture, there was a discussion related to the proper value of the learning rate, $\\alpha$ in equation(3). The larger $\\alpha$ is, the faster gradient descent will converge to a solution. But, if it is too large, gradient descent will diverge. Above you have an example of a solution which converges nicely.\n",
    "​\n",
    "Let's try increasing the value of  $\\alpha$ and see what happens:"
   ]
  },
  {
   "cell_type": "code",
   "execution_count": 12,
   "id": "b851c5f4-a61b-4a14-92d0-28ff91732842",
   "metadata": {},
   "outputs": [
    {
     "name": "stdout",
     "output_type": "stream",
     "text": [
      "Iteration    0: Cost 1.71e+06  dj_dw: -1.300e+03, dj_db: -8.000e+02   w:  1.040e+03, b: 6.40000e+02\n",
      "Iteration   10: Cost 1.84e+19  dj_dw: -4.260e+09, dj_db: -2.633e+09   w:  2.786e+09, b: 1.72205e+09\n",
      "Iteration   20: Cost 1.98e+32  dj_dw: -1.397e+16, dj_db: -8.637e+15   w:  9.141e+15, b: 5.64946e+15\n",
      "Iteration   30: Cost 2.13e+45  dj_dw: -4.585e+22, dj_db: -2.833e+22   w:  2.999e+22, b: 1.85339e+22\n",
      "Iteration   40: Cost 2.29e+58  dj_dw: -1.504e+29, dj_db: -9.296e+28   w:  9.838e+28, b: 6.08033e+28\n",
      "Iteration   50: Cost 2.47e+71  dj_dw: -4.934e+35, dj_db: -3.050e+35   w:  3.228e+35, b: 1.99474e+35\n",
      "Iteration   60: Cost 2.65e+84  dj_dw: -1.619e+42, dj_db: -1.000e+42   w:  1.059e+42, b: 6.54406e+41\n",
      "Iteration   70: Cost 2.86e+97  dj_dw: -5.311e+48, dj_db: -3.282e+48   w:  3.474e+48, b: 2.14688e+48\n",
      "Iteration   80: Cost 3.08e+110  dj_dw: -1.742e+55, dj_db: -1.077e+55   w:  1.140e+55, b: 7.04316e+54\n",
      "Iteration   90: Cost 3.31e+123  dj_dw: -5.716e+61, dj_db: -3.533e+61   w:  3.739e+61, b: 2.31062e+61\n",
      "(w, b) found by gradient descent: (-2.7357693657859945e+67, -1.6907984534364878e+67)\n"
     ]
    }
   ],
   "source": [
    "# initialize parameters\n",
    "w_in = 0\n",
    "b_in = 0\n",
    "\n",
    "# gradient descent settings\n",
    "iterations = 100\n",
    "tmp_alpha = 8.0e-1\n",
    "\n",
    "# run gradient descent\n",
    "w_final, b_final, J_hist, p_hist = gradient_descent(x_train, y_train, w_in, b_in, tmp_alpha,\n",
    "                                                   iterations, compute_cost, compute_gradient)\n",
    "\n",
    "print(f'(w, b) found by gradient descent: ({round(w_final, 1)}, {round(b_final, 2)})')"
   ]
  },
  {
   "cell_type": "markdown",
   "id": "ae6fed3c-d348-4b11-9c29-abcc1b8a1c92",
   "metadata": {},
   "source": [
    "Above, $w$ and $b$ are bouncing back and forth between positive and negative with the absolute value increasing with each iteration. Further, each iteration $\\frac{\\partial J(w,b)}{\\partial w}$ changes sign and cost is increasing rather than decreasing. This is a clear sign that the *learning rate is too large* and the solution is diverging. \n"
   ]
  },
  {
   "cell_type": "code",
   "execution_count": null,
   "id": "2ea15a99-d818-4353-85fd-59ec41d185cf",
   "metadata": {},
   "outputs": [],
   "source": []
  }
 ],
 "metadata": {
  "kernelspec": {
   "display_name": "Python 3 (ipykernel)",
   "language": "python",
   "name": "python3"
  },
  "language_info": {
   "codemirror_mode": {
    "name": "ipython",
    "version": 3
   },
   "file_extension": ".py",
   "mimetype": "text/x-python",
   "name": "python",
   "nbconvert_exporter": "python",
   "pygments_lexer": "ipython3",
   "version": "3.9.12"
  }
 },
 "nbformat": 4,
 "nbformat_minor": 5
}
