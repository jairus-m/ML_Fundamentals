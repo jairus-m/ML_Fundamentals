{
 "cells": [
  {
   "cell_type": "markdown",
   "id": "1ec0d364-b8ec-48f8-9da3-978b42dcf4cf",
   "metadata": {},
   "source": [
    "## Cost Function\n",
    "\n",
    "Goal: Implement and explore the cost function with one variable"
   ]
  },
  {
   "cell_type": "code",
   "execution_count": 1,
   "id": "2d074c12-620a-4a6f-861a-c19a05a756b3",
   "metadata": {},
   "outputs": [],
   "source": [
    "#!pip install lab-utils "
   ]
  },
  {
   "cell_type": "code",
   "execution_count": 4,
   "id": "2b96f40b-e2b2-4750-a049-a725b58b960e",
   "metadata": {},
   "outputs": [],
   "source": [
    "import numpy as np\n",
    "import matplotlib.pyplot as plt\n",
    "#%matplotlib widget\n",
    "#from lab_utils_uni import plt_intuitions, plt_stationary, plt_update_onclick, soup_bowl\n",
    "import seaborn as sns\n",
    "sns.set_style('darkgrid')"
   ]
  },
  {
   "cell_type": "markdown",
   "id": "bb5f9367-ad6d-4229-aacd-015e60c66cf2",
   "metadata": {},
   "source": [
    "## Problem Statement\n",
    "\n",
    "You would like a model which can predict housing prices given the size of the house.  \n",
    "Let's use the same two data points as before the previous lab- a house with 1000 square feet sold for \\\\$300,000 and a house with 2000 square feet sold for \\\\$500,000.\n",
    "\n",
    "\n",
    "| Size (1000 sqft)     | Price (1000s of dollars) |\n",
    "| -------------------| ------------------------ |\n",
    "| 1                 | 300                      |\n",
    "| 2                  | 500                      |\n"
   ]
  },
  {
   "cell_type": "code",
   "execution_count": 6,
   "id": "e27ea8ea-6209-4358-95a7-ed26031a773e",
   "metadata": {},
   "outputs": [],
   "source": [
    "# size in 1k's sqrft and price in 1k's of USD\n",
    "x_train = np.array([1.,2.])\n",
    "y_train = np.array([300.,500,])"
   ]
  },
  {
   "cell_type": "markdown",
   "id": "be58c161-ebd8-46eb-94ca-873df11f7b40",
   "metadata": {},
   "source": [
    "## Computing Cost\n",
    "The term 'cost' in this assignment might be a little confusing since the data is housing cost. Here, cost is a measure how well our model is predicting the target price of the house. The term 'price' is used for housing data.\n",
    "\n",
    "The equation for cost with one variable is:\n",
    "  $$J(w,b) = \\frac{1}{2m} \\sum\\limits_{i = 0}^{m-1} (f_{w,b}(x^{(i)}) - y^{(i)})^2 \\tag{1}$$ \n",
    " \n",
    "where \n",
    "  $$f_{w,b}(x^{(i)}) = wx^{(i)} + b \\tag{2}$$\n",
    "  \n",
    "- $f_{w,b}(x^{(i)})$ is our prediction for example $i$ using parameters $w,b$.  \n",
    "- $(f_{w,b}(x^{(i)}) -y^{(i)})^2$ is the squared difference between the target value and the prediction.   \n",
    "- These differences are summed over all the $m$ examples and divided by `2m` to produce the cost, $J(w,b)$.  \n",
    ">Note, in lecture summation ranges are typically from 1 to m, while code will be from 0 to m-1.\n"
   ]
  },
  {
   "cell_type": "markdown",
   "id": "3331e47e-111c-4847-adac-6ff1c9376b79",
   "metadata": {},
   "source": [
    "The code below calculates cost by looping over each example. In each loop:\n",
    "- `f_wb`, a prediction is calculated\n",
    "- the difference between the target and the prediction is calculated and squared.\n",
    "- this is added to the total cost."
   ]
  },
  {
   "cell_type": "code",
   "execution_count": 7,
   "id": "94fbb44f-2f61-4bb0-be66-6bedf1bce69e",
   "metadata": {},
   "outputs": [],
   "source": [
    "def compute_cost(x, y, w, b):\n",
    "    \"\"\"\n",
    "    Computes the cost function for a linear expression.\n",
    "    Args:\n",
    "        x (ndarray (m,)): Data, m examples \n",
    "        y (ndarray (m,)): target values\n",
    "        w,b (scalar)    : model parameters  \n",
    "    Returns\n",
    "        total_cost (float): The cost of using w,b as the parameters for linear regression to the fit the data points in x and y\n",
    "    \"\"\"\n",
    "    # number of training examples\n",
    "    m = x.shape[0]\n",
    "    \n",
    "    cost_sum = 0\n",
    "    for i in range(m):\n",
    "        f_wb = w * x[i] + b\n",
    "        cost = (f_wb - y[i]) ** 2\n",
    "        cost_sum = cost_sum + cost\n",
    "    total_cost = (1 / (2 * m)) * cost_sum\n",
    "    \n",
    "    return total_cost"
   ]
  },
  {
   "cell_type": "markdown",
   "id": "3b9e475b-7add-44d4-a088-d5484a0277e4",
   "metadata": {},
   "source": [
    "### Cost Function Intuition\n",
    "\n",
    "Your goal is to find a model $f_{w,b}(x) = wx + b$, with parameters $w,b$,  which will accurately predict house values given an input $x$. The cost is a measure of how accurate the model is on the training data.\n",
    "\n",
    "The cost equation (1) above shows that if $w$ and $b$ can be selected such that the predictions $f_{w,b}(x)$ match the target data $y$, the $(f_{w,b}(x^{(i)}) - y^{(i)})^2 $ term will be zero and the cost minimized. In this simple two point example, you can achieve this!\n",
    "\n",
    "In the previous lab, you determined that $b=100$ provided an optimal solution so let's set $b$ to 100 and focus on $w$.\n",
    "\n",
    "<br/>\n",
    "Below, use the slider control to select the value of $w$ that minimizes cost. It can take a few seconds for the plot to update."
   ]
  },
  {
   "cell_type": "code",
   "execution_count": 48,
   "id": "2f17740a-f600-4a55-8a58-e0cffef21c1f",
   "metadata": {},
   "outputs": [
    {
     "data": {
      "image/png": "[encoded data removed]",
      "text/plain": [
       "<Figure size 432x288 with 1 Axes>"
      ]
     },
     "metadata": {},
     "output_type": "display_data"
    }
   ],
   "source": [
    "x_train = np.array([1.0, 1.7, 2.0, 2.5, 3.0, 3.2])\n",
    "y_train = np.array([250, 300, 480, 430, 630, 730,])\n",
    "\n",
    "\n",
    "# Experimenting\n",
    "w_list = np.linspace(100, 300, 20)\n",
    "b = 0\n",
    "\n",
    "cost_func_y = np.zeros(w_list.shape[0]) \n",
    "for i, w in enumerate(w_list):\n",
    "    cost_func_y[i] = compute_cost(x_train, y_train, w, b)\n",
    "    \n",
    "plt.plot(w_list, cost_func_y, c='b')    \n",
    "    \n",
    "\n",
    "plt.title('Cost Function')\n",
    "plt.ylabel('J (cost)')\n",
    "plt.xlabel('w (slope)')\n",
    "\n",
    "plt.show()"
   ]
  },
  {
   "cell_type": "markdown",
   "id": "164b688e-3371-4e13-8054-ce2a1beb984d",
   "metadata": {},
   "source": [
    "In this simplified cost function where b = 0, we see that w is minimized at a little over 200. "
   ]
  },
  {
   "cell_type": "markdown",
   "id": "d1f22b7b-8e34-49db-ad40-a903cc97efd0",
   "metadata": {},
   "source": [
    "### Convex Cost surface\n",
    "The fact that the cost function squares the loss ensures that the 'error surface' is convex like a soup bowl. It will always have a minimum that can be reached by following the gradient in all dimensions. In the previous plot, because the $w$ and $b$ dimensions scale differently, this is not easy to recognize. The following plot, where $w$ and $b$ are symmetric, was shown in lecture:"
   ]
  },
  {
   "cell_type": "code",
   "execution_count": null,
   "id": "5e05601f-d4cf-4db7-bcd0-abed47800b93",
   "metadata": {},
   "outputs": [],
   "source": []
  }
 ],
 "metadata": {
  "kernelspec": {
   "display_name": "Python 3 (ipykernel)",
   "language": "python",
   "name": "python3"
  },
  "language_info": {
   "codemirror_mode": {
    "name": "ipython",
    "version": 3
   },
   "file_extension": ".py",
   "mimetype": "text/x-python",
   "name": "python",
   "nbconvert_exporter": "python",
   "pygments_lexer": "ipython3",
   "version": "3.9.12"
  }
 },
 "nbformat": 4,
 "nbformat_minor": 5
}
