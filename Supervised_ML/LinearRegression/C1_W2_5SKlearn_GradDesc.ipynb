{
 "cells": [
  {
   "cell_type": "markdown",
   "id": "b8196295-3ca2-4127-84fe-c4510504a308",
   "metadata": {},
   "source": [
    "# Linear Regression using Skikit-Learn"
   ]
  },
  {
   "cell_type": "code",
   "execution_count": 4,
   "id": "bcee1138-0509-415c-861e-be8f6175801b",
   "metadata": {},
   "outputs": [
    {
     "name": "stdout",
     "output_type": "stream",
     "text": [
      "Requirement already satisfied: scikit-learn in /Users/jairusmartinez/opt/anaconda3/lib/python3.9/site-packages (1.2.2)\n",
      "Requirement already satisfied: scipy>=1.3.2 in /Users/jairusmartinez/opt/anaconda3/lib/python3.9/site-packages (from scikit-learn) (1.7.3)\n",
      "Requirement already satisfied: numpy>=1.17.3 in /Users/jairusmartinez/opt/anaconda3/lib/python3.9/site-packages (from scikit-learn) (1.21.5)\n",
      "Requirement already satisfied: threadpoolctl>=2.0.0 in /Users/jairusmartinez/opt/anaconda3/lib/python3.9/site-packages (from scikit-learn) (2.2.0)\n",
      "Requirement already satisfied: joblib>=1.1.1 in /Users/jairusmartinez/opt/anaconda3/lib/python3.9/site-packages (from scikit-learn) (1.2.0)\n"
     ]
    }
   ],
   "source": [
    "#pip uninstall scikit-learn\n",
    "!pip install scikit-learn\n"
   ]
  },
  {
   "cell_type": "code",
   "execution_count": 9,
   "id": "9caf5ce1-eb34-4ef9-abca-488de021eb48",
   "metadata": {},
   "outputs": [],
   "source": [
    "# Linear Algebra and Data\n",
    "import numpy as np\n",
    "from lab_utils_multi import load_house_data\n",
    "\n",
    "# Plots\n",
    "import matplotlib.pyplot as plt\n",
    "from lab_utils_common import dlc\n",
    "import seaborn as sns\n",
    "sns.set_style('darkgrid')\n",
    "\n",
    "# Linear Regression\n",
    "from sklearn.linear_model import SGDRegressor\n",
    "from sklearn.preprocessing import StandardScaler\n",
    "\n"
   ]
  },
  {
   "cell_type": "markdown",
   "id": "df36aa0c-242c-4784-a409-2f8890fecbd6",
   "metadata": {},
   "source": [
    "# Gradient Descent\n",
    "Scikit-learn has a gradient descent regression model [sklearn.linear_model.SGDRegressor](https://scikit-learn.org/stable/modules/generated/sklearn.linear_model.SGDRegressor.html#examples-using-sklearn-linear-model-sgdregressor).  Like your previous implementation of gradient descent, this model performs best with normalized inputs. [sklearn.preprocessing.StandardScaler](https://scikit-learn.org/stable/modules/generated/sklearn.preprocessing.StandardScaler.html#sklearn.preprocessing.StandardScaler) will perform z-score normalization as in a previous lab. Here it is referred to as 'standard score'."
   ]
  },
  {
   "cell_type": "markdown",
   "id": "28e82165-080d-45cb-8a91-ee56452ef4af",
   "metadata": {},
   "source": [
    "### Load data, scale/normalize, create regression model:"
   ]
  },
  {
   "cell_type": "code",
   "execution_count": 19,
   "id": "e93cd546-aeb0-4093-be73-dd0e22ae9963",
   "metadata": {},
   "outputs": [
    {
     "data": {
      "text/plain": [
       "array([300.   , 509.8  , 394.   , 540.   , 415.   , 230.   , 560.   ,\n",
       "       294.   , 718.2  , 200.   , 302.   , 468.   , 374.2  , 388.   ,\n",
       "       282.   , 311.8  , 401.   , 449.8  , 301.   , 502.   , 340.   ,\n",
       "       400.282, 572.   , 264.   , 304.   , 298.   , 219.8  , 490.7  ,\n",
       "       216.96 , 368.2  , 280.   , 526.87 , 237.   , 562.426, 369.8  ,\n",
       "       460.   , 374.   , 390.   , 158.   , 426.   , 390.   , 277.774,\n",
       "       216.96 , 425.8  , 504.   , 329.   , 464.   , 220.   , 358.   ,\n",
       "       478.   , 334.   , 426.98 , 290.   , 463.   , 390.8  , 354.   ,\n",
       "       350.   , 460.   , 237.   , 288.304, 282.   , 249.   , 304.   ,\n",
       "       332.   , 351.8  , 310.   , 216.96 , 666.336, 330.   , 480.   ,\n",
       "       330.3  , 348.   , 304.   , 384.   , 316.   , 430.4  , 450.   ,\n",
       "       284.   , 275.   , 414.   , 258.   , 378.   , 350.   , 412.   ,\n",
       "       373.   , 225.   , 390.   , 267.4  , 464.   , 174.   , 340.   ,\n",
       "       430.   , 440.   , 216.   , 329.   , 388.   , 390.   , 356.   ,\n",
       "       257.8  ])"
      ]
     },
     "execution_count": 19,
     "metadata": {},
     "output_type": "execute_result"
    }
   ],
   "source": [
    "y_train"
   ]
  },
  {
   "cell_type": "code",
   "execution_count": 10,
   "id": "8ac4221c-c573-4f4a-9927-7144e7d04b38",
   "metadata": {},
   "outputs": [],
   "source": [
    "# load the data\n",
    "X_train, y_train = load_house_data()\n",
    "X_features = ['size_sqft', 'bedrooms', 'floors', 'age']"
   ]
  },
  {
   "cell_type": "code",
   "execution_count": 11,
   "id": "dcd8c06c-7623-40bd-be4a-94e9980d1864",
   "metadata": {},
   "outputs": [
    {
     "name": "stdout",
     "output_type": "stream",
     "text": [
      "Peak to peak of X_train: [2.406e+03 4.000e+00 1.000e+00 9.500e+01]\n",
      "Peak to peak of X_norm: [5.8452591  6.13529646 2.05626214 3.68533012]\n"
     ]
    }
   ],
   "source": [
    "# scale/normalize training data\n",
    "scaler = StandardScaler()\n",
    "X_norm = scaler.fit_transform(X_train)\n",
    "\n",
    "print(f'Peak to peak of X_train: {np.ptp(X_train, axis=0)}')\n",
    "print(f'Peak to peak of X_norm: {np.ptp(X_norm, axis=0)}')"
   ]
  },
  {
   "cell_type": "code",
   "execution_count": 12,
   "id": "2d4bb8b3-a66a-4ede-86f2-484be9a332f5",
   "metadata": {},
   "outputs": [
    {
     "name": "stdout",
     "output_type": "stream",
     "text": [
      "number of iterations completed: 131, number of weight updates: 12970.0\n"
     ]
    }
   ],
   "source": [
    "# create the regression model\n",
    "sgdr = SGDRegressor(max_iter=1000)\n",
    "sgdr.fit(X_norm, y_train)\n",
    "\n",
    "print(f\"number of iterations completed: {sgdr.n_iter_}, number of weight updates: {sgdr.t_}\")"
   ]
  },
  {
   "cell_type": "markdown",
   "id": "6665a337-ba03-439b-a4de-dabe1a67395f",
   "metadata": {},
   "source": [
    "## Key Scikit Regression functions and methods\n",
    "\n",
    "1. Z-score normalization\n",
    "    - ```from sklearn.preprocessing import StandardScaler```\n",
    "    - ```scaler = StandardScaler()```\n",
    "    - ```X_normalized = scaler.fit_transform(X_train)```\n",
    "2. Linear Regression\n",
    "    - ```from sklearn.linear_model import SGDRegressor```\n",
    "    - ```sgdr = SGDRegressor(max_iter=1000)```\n",
    "    - ```sgdr.fit(X_norm. y_train)```\n",
    "    - Number of iterations completed: ```sgdr.n_iter_```\n",
    "    - Number of weight updates: ```sgdr.t_```\n",
    "3. Retrieving Parameters\n",
    "    - ```w_norm = sgdr.coef_```\n",
    "    - ```b_norm = sgdr.intercept_```\n",
    "4. Predict\n",
    "    - ```y_pred_sgd = sgdr.predict(X_norm)```"
   ]
  },
  {
   "cell_type": "markdown",
   "id": "c0a45c53-fb9b-4ff8-a84a-16e554bcd1f7",
   "metadata": {
    "tags": []
   },
   "source": [
    "### View parameters\n",
    "Note, the parameters are associated with the *normalized* input data. The fit parameters are very close to those found in the previous lab with this data."
   ]
  },
  {
   "cell_type": "code",
   "execution_count": 13,
   "id": "649c2f75-a362-4a53-80bc-162fcfa5d9de",
   "metadata": {},
   "outputs": [
    {
     "name": "stdout",
     "output_type": "stream",
     "text": [
      "model parameters:                   w: [110.21614246 -21.10012042 -32.50979609 -38.01025295], b:[363.14651436]\n",
      "model parameters from previous lab: w: [110.56 -21.27 -32.71 -37.97], b: 363.16\n"
     ]
    }
   ],
   "source": [
    "b_norm = sgdr.intercept_\n",
    "w_norm = sgdr.coef_\n",
    "\n",
    "print(f\"model parameters:                   w: {w_norm}, b:{b_norm}\")\n",
    "print( \"model parameters from previous lab: w: [110.56 -21.27 -32.71 -37.97], b: 363.16\")"
   ]
  },
  {
   "cell_type": "markdown",
   "id": "2ffb92bd-8ce4-45e6-b0a5-ebccce043977",
   "metadata": {},
   "source": [
    "### Make predictions\n",
    "Predict the targets of the training data. Use both the `predict` routine and compute using $w$ and $b$."
   ]
  },
  {
   "cell_type": "code",
   "execution_count": 15,
   "id": "d9066c36-237e-4c3b-8a61-ea144b3f3e73",
   "metadata": {},
   "outputs": [
    {
     "name": "stdout",
     "output_type": "stream",
     "text": [
      "prediction using np.dot() and sgdr.predict match: True\n",
      "Prediction on training set:\n",
      "[295.18925044 485.88208385 389.57507193 492.04432003]\n",
      "Target values \n",
      "[300.  509.8 394.  540. ]\n"
     ]
    }
   ],
   "source": [
    "# comparing scikitlearn with actually writing out the formula - expect the same results\n",
    "\n",
    "# make a prediction (hypothesized formula) using sgdr.predict()\n",
    "y_pred_sgd = sgdr.predict(X_norm)\n",
    "\n",
    "# make a prediction using w and b\n",
    "y_pred = np.dot(X_norm, w_norm) + b_norm\n",
    "\n",
    "print(f\"prediction using np.dot() and sgdr.predict match: {(y_pred == y_pred_sgd).all()}\")\n",
    "\n",
    "print(f\"Prediction on training set:\\n{y_pred[:4]}\" )\n",
    "print(f\"Target values \\n{y_train[:4]}\")"
   ]
  },
  {
   "cell_type": "markdown",
   "id": "5d6f34a4-76b5-4640-9a1d-0e9ef4823817",
   "metadata": {},
   "source": [
    "### Plot Results\n",
    "Let's plot the predictions versus the target values."
   ]
  },
  {
   "cell_type": "code",
   "execution_count": 16,
   "id": "8d4cfd7d-e7a8-4742-8ab7-6394f30c85f2",
   "metadata": {},
   "outputs": [
    {
     "data": {
      "image/png": "[encoded data removed]",
      "text/plain": [
       "<Figure size 864x216 with 4 Axes>"
      ]
     },
     "metadata": {},
     "output_type": "display_data"
    }
   ],
   "source": [
    "fig, ax = plt.subplots(1, 4, figsize=(12,3), sharey=True)\n",
    "\n",
    "# look at the actual values/predictions by feature\n",
    "for i in range(len(ax)):\n",
    "    ax[i].scatter(X_train[:,i],y_train, label = 'target')\n",
    "    ax[i].set_xlabel(X_features[i])\n",
    "    ax[i].scatter(X_train[:,i],y_pred,color=dlc[\"dlorange\"], label = 'predict')\n",
    "ax[0].set_ylabel(\"Price\")\n",
    "ax[0].legend()\n",
    "\n",
    "fig.suptitle(\"Target versus Prediction using Z-score Normalized Model\")\n",
    "\n",
    "plt.show()\n",
    "    "
   ]
  }
 ],
 "metadata": {
  "kernelspec": {
   "display_name": "Python 3 (ipykernel)",
   "language": "python",
   "name": "python3"
  },
  "language_info": {
   "codemirror_mode": {
    "name": "ipython",
    "version": 3
   },
   "file_extension": ".py",
   "mimetype": "text/x-python",
   "name": "python",
   "nbconvert_exporter": "python",
   "pygments_lexer": "ipython3",
   "version": "3.9.12"
  }
 },
 "nbformat": 4,
 "nbformat_minor": 5
}
