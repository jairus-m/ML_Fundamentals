{
 "cells": [
  {
   "cell_type": "code",
   "execution_count": 1,
   "id": "8a55f070-0e00-426b-b3bc-2a9c8fce363f",
   "metadata": {},
   "outputs": [],
   "source": [
    "import copy, math\n",
    "import numpy as np\n",
    "import matplotlib.pyplot as plt\n",
    "import seaborn as sns\n",
    "sns.set_style('darkgrid')\n",
    "import pandas as pd"
   ]
  },
  {
   "cell_type": "code",
   "execution_count": 2,
   "id": "cfc07001-375f-43e5-8e3c-19ec449a80c6",
   "metadata": {},
   "outputs": [],
   "source": [
    "df = pd.DataFrame({'size_sqft':[2104, 1416, 852],\n",
    "             'bedrooms': [5, 3, 2],\n",
    "             'floors':[1, 2, 1],\n",
    "             'age':[45, 40, 35],\n",
    "             'price_1k':[460, 232, 178]})"
   ]
  },
  {
   "cell_type": "code",
   "execution_count": 3,
   "id": "a11c08ba-6aee-4c93-b8c0-8c549c424e88",
   "metadata": {},
   "outputs": [],
   "source": [
    "X_train = df.to_numpy()[:,:4].reshape(-1,4)\n",
    "y_train = df.to_numpy()[:,-1]"
   ]
  },
  {
   "cell_type": "markdown",
   "id": "6e4e5efd-eea4-4f3e-ac0d-bc8f4ba13993",
   "metadata": {},
   "source": [
    "<a name=\"toc_15456_4\"></a>\n",
    "# 1 Compute Cost With Multiple Variables\n",
    "The equation for the cost function with multiple variables $J(\\mathbf{w},b)$ is:\n",
    "$$J(\\mathbf{w},b) = \\frac{1}{2m} \\sum\\limits_{i = 0}^{m-1} (f_{\\mathbf{w},b}(\\mathbf{x}^{(i)}) - y^{(i)})^2 \\tag{3}$$ \n",
    "where:\n",
    "$$ f_{\\mathbf{w},b}(\\mathbf{x}^{(i)}) = \\mathbf{w} \\cdot \\mathbf{x}^{(i)} + b  \\tag{4} $$ \n",
    "\n",
    "\n",
    "$\\mathbf{w}$ and $\\mathbf{x}^{(i)}$ are vectors rather than scalars supporting multiple features\n",
    "\n",
    "Below is an implementation of equations (3) and (4).\n",
    "\n",
    "A for loop is used over all `m` examples:"
   ]
  },
  {
   "cell_type": "code",
   "execution_count": 4,
   "id": "3e203ae9-61d6-4e9f-bec1-41664ea55cc4",
   "metadata": {},
   "outputs": [],
   "source": [
    "def compute_cost(X, y, w, b):\n",
    "    \"\"\"\n",
    "    compute cost\n",
    "    Args:\n",
    "        X (ndarray (m,n)): data, m examples with n features\n",
    "        y (ndarray (m,)) : target values\n",
    "        w (ndarray (n,)) : model parameters\n",
    "        b (scalar)       : model parameters\n",
    "    Returns:\n",
    "        cost (scalar)    : cost\n",
    "    \"\"\"\n",
    "    m = X.shape[0]\n",
    "    cost = 0.0\n",
    "    for i in range(m):\n",
    "        f_wb_i = np.dot(X[i], w) + b\n",
    "        cost = cost + (f_wb_i - y[i])**2\n",
    "    cost = cost / (2 * m)\n",
    "    return cost"
   ]
  },
  {
   "cell_type": "markdown",
   "id": "6a194178-0ef1-4bf7-8869-20175e0d9177",
   "metadata": {},
   "source": [
    "<a name=\"toc_15456_5\"></a>\n",
    "# 2 Gradient Descent With Multiple Variables\n",
    "Gradient descent for multiple variables:\n",
    "\n",
    "$$\\begin{align*} \\text{repeat}&\\text{ until convergence:} \\; \\lbrace \\newline\\;\n",
    "& w_j = w_j -  \\alpha \\frac{\\partial J(\\mathbf{w},b)}{\\partial w_j} \\tag{5}  \\; & \\text{for j = 0..n-1}\\newline\n",
    "&b\\ \\ = b -  \\alpha \\frac{\\partial J(\\mathbf{w},b)}{\\partial b}  \\newline \\rbrace\n",
    "\\end{align*}$$\n",
    "\n",
    "where, n is the number of features, parameters $w_j$,  $b$, are updated simultaneously and where  \n",
    "\n",
    "$$\n",
    "\\begin{align}\n",
    "\\frac{\\partial J(\\mathbf{w},b)}{\\partial w_j}  &= \\frac{1}{m} \\sum\\limits_{i = 0}^{m-1} (f_{\\mathbf{w},b}(\\mathbf{x}^{(i)}) - y^{(i)})x_{j}^{(i)} \\tag{6}  \\\\\n",
    "\\frac{\\partial J(\\mathbf{w},b)}{\\partial b}  &= \\frac{1}{m} \\sum\\limits_{i = 0}^{m-1} (f_{\\mathbf{w},b}(\\mathbf{x}^{(i)}) - y^{(i)}) \\tag{7}\n",
    "\\end{align}\n",
    "$$\n",
    "* m is the number of training examples in the data set\n",
    "\n",
    "    \n",
    "*  $f_{\\mathbf{w},b}(\\mathbf{x}^{(i)})$ is the model's prediction, while $y^{(i)}$ is the target value\n",
    "\n",
    "\n",
    "<a name=\"toc_15456_5.1\"></a>\n",
    "## Compute Gradient with Multiple Variables\n",
    "An implementation for calculating the equations (6) and (7) is below. While there are many ways to implement this. In this version, I will use an:\n",
    "- outer loop over all m examples. \n",
    "    - $\\frac{\\partial J(\\mathbf{w},b)}{\\partial b}$ for the example can be computed directly and accumulated\n",
    "    - in a second loop over all n features:\n",
    "        - $\\frac{\\partial J(\\mathbf{w},b)}{\\partial w_j}$ is computed for each $w_j$.\n",
    "\n"
   ]
  },
  {
   "cell_type": "code",
   "execution_count": 5,
   "id": "137323db-ec5b-4839-8ff0-da39a7d24dcb",
   "metadata": {},
   "outputs": [
    {
     "data": {
      "text/plain": [
       "(3, 4)"
      ]
     },
     "execution_count": 5,
     "metadata": {},
     "output_type": "execute_result"
    }
   ],
   "source": [
    "X_train.shape"
   ]
  },
  {
   "cell_type": "code",
   "execution_count": 6,
   "id": "0fefbfbf-c04f-4cd8-8f50-d5c9bb81eb4e",
   "metadata": {},
   "outputs": [],
   "source": [
    "def compute_gradient(X,  y, w, b):\n",
    "    \"\"\"\n",
    "    Computes the gradient for linear regression\n",
    "    Args:\n",
    "        X (ndarray (m,n)): data, m examples with n features\n",
    "        y (ndarray (m,)) : target values\n",
    "        w (ndarray (n,)) : model parameters\n",
    "        b (scalar)       : model parameter\n",
    "    Returns:\n",
    "        dj_dw (ndarray (n,)): the gradient of the cost w.r.t the parameter w\n",
    "        dj_db (scalar)      : the gradient of the cost w.r.t the parameter b\n",
    "    \"\"\"\n",
    "    m,n = X.shape         # number of examples, number of features\n",
    "    dj_dw = np.zeros((n,))\n",
    "    dj_db = 0\n",
    "    \n",
    "    for i in range(m):\n",
    "        err = (np.dot(X[i], w) + b) - y[i]\n",
    "        for j in range(n):\n",
    "            dj_dw[j] = dj_dw[j] + err * X[i,j]\n",
    "        dj_db = dj_db + err\n",
    "    dj_dw = dj_dw / m\n",
    "    dj_db = dj_db / m\n",
    "    \n",
    "    return dj_db, dj_dw"
   ]
  },
  {
   "cell_type": "markdown",
   "id": "2fbf0bd2-6e4e-4fbb-b68e-483f29b33b66",
   "metadata": {},
   "source": [
    "<a name=\"toc_15456_5.2\"></a>\n",
    "## 3 Gradient Descent With Multiple Variables\n",
    "The routine below implements equation (5) above."
   ]
  },
  {
   "cell_type": "code",
   "execution_count": 7,
   "id": "bbf2229e-5da2-47b3-84f8-8ea17fba8c64",
   "metadata": {},
   "outputs": [],
   "source": [
    "def gradient_descent(X, y, w_in, b_in, cost_function, gradient_function, alpha, num_iters):\n",
    "    \"\"\"\n",
    "    Performs batch gradient descent to learn w and b. Updates w and b by taking num_iters gradient steps with learning rate alpha.\n",
    "    Args:\n",
    "      X (ndarray (m,n))   : Data, m examples with n features\n",
    "      y (ndarray (m,))    : target values\n",
    "      w_in (ndarray (n,)) : initial model parameters  \n",
    "      b_in (scalar)       : initial model parameter\n",
    "      cost_function       : function to compute cost\n",
    "      gradient_function   : function to compute the gradient\n",
    "      alpha (float)       : Learning rate\n",
    "      num_iters (int)     : number of iterations to run gradient descent\n",
    "      \n",
    "    Returns:\n",
    "      w (ndarray (n,)) : Updated values of parameters \n",
    "      b (scalar)       : Updated value of parameter \n",
    "    \"\"\"\n",
    "    # an array to store cost J and w's at each iteration primarily for graphing later\n",
    "    J_history = []\n",
    "    w = copy.deepcopy(w_in)\n",
    "    b = b_in\n",
    "    \n",
    "    for i in range(num_iters):\n",
    "        \n",
    "        # calculate the gradient and update the parameters\n",
    "        dj_db, dj_dw = gradient_function(X, y, w, b)\n",
    "        \n",
    "        # update parameters using w, b, alpha, and gradient\n",
    "        w = w - alpha * dj_dw\n",
    "        b = b - alpha * dj_db\n",
    "        \n",
    "        # save cost J at each iteration\n",
    "        if i < 100000: # prevent resource exhaustion\n",
    "            J_history.append(cost_function(X, y, w, b))\n",
    "        \n",
    "        # print cost every at intervals 10 times or as many iterations if < 10\n",
    "        if i% math.ceil(num_iters / 10) == 0:\n",
    "            print(f'Iteration: {i:4d}: Cost {J_history[-1]:8.2f}')\n",
    "    return w, b, J_history"
   ]
  },
  {
   "cell_type": "markdown",
   "id": "37602e31-2e3c-4d24-a77e-3d216504d278",
   "metadata": {},
   "source": [
    "# 4 Test Model"
   ]
  },
  {
   "cell_type": "code",
   "execution_count": 8,
   "id": "384d0a1f-e1be-468e-b823-b59ed0cad7b9",
   "metadata": {},
   "outputs": [
    {
     "name": "stdout",
     "output_type": "stream",
     "text": [
      "Iteration:    0: Cost  2529.46\n",
      "Iteration:  100: Cost   695.99\n",
      "Iteration:  200: Cost   694.92\n",
      "Iteration:  300: Cost   693.86\n",
      "Iteration:  400: Cost   692.81\n",
      "Iteration:  500: Cost   691.77\n",
      "Iteration:  600: Cost   690.73\n",
      "Iteration:  700: Cost   689.71\n",
      "Iteration:  800: Cost   688.70\n",
      "Iteration:  900: Cost   687.69\n",
      "b,w found by gradient descent: -0.00, [ 0.20396569  0.00374919 -0.0112487  -0.0658614 ]\n"
     ]
    }
   ],
   "source": [
    "# initialize parameters\n",
    "initial_w = np.zeros(df.shape[1]-1)\n",
    "initial_b = 0\n",
    "\n",
    "# gradient descent settings\n",
    "iterations = 1000\n",
    "alpha = 5.0e-7\n",
    "\n",
    "# run gradient descent \n",
    "w_final, b_final, J_hist = gradient_descent(X_train, y_train, initial_w, initial_b, compute_cost, compute_gradient, alpha, iterations)\n",
    "\n",
    "print(f'b,w found by gradient descent: {b_final:0.2f}, {w_final:}')"
   ]
  },
  {
   "cell_type": "markdown",
   "id": "067b5bf0-5389-4d6b-b8df-deca74861b09",
   "metadata": {},
   "source": [
    "# 5 Multivariable Linear Regression Prediction"
   ]
  },
  {
   "cell_type": "code",
   "execution_count": 9,
   "id": "743d7a66-eef4-411a-9696-71a43588adc2",
   "metadata": {},
   "outputs": [],
   "source": [
    "def predict(x, w, b): \n",
    "    \"\"\"\n",
    "    single predict using linear regression\n",
    "    Args:\n",
    "      x (ndarray): Shape (n,) example with multiple features\n",
    "      w (ndarray): Shape (n,) model parameters   \n",
    "      b (scalar):             model parameter \n",
    "      \n",
    "    Returns:\n",
    "      p (scalar):  prediction\n",
    "    \"\"\"\n",
    "    p = np.dot(x, w) + b     \n",
    "    return p    "
   ]
  },
  {
   "cell_type": "code",
   "execution_count": 10,
   "id": "9adb9e8d-9cf0-4a6b-bd79-b5522e7782f6",
   "metadata": {},
   "outputs": [
    {
     "data": {
      "text/plain": [
       "array([426.18530497, 286.16747201, 171.46763087])"
      ]
     },
     "execution_count": 10,
     "metadata": {},
     "output_type": "execute_result"
    }
   ],
   "source": [
    "predict(X_train, w_final, b_final)"
   ]
  },
  {
   "cell_type": "markdown",
   "id": "0b62beb0-33fc-4d83-8809-b402c337c603",
   "metadata": {},
   "source": [
    "# 6 Visualize Cost Function"
   ]
  },
  {
   "cell_type": "code",
   "execution_count": 11,
   "id": "76453384-7f1f-458a-abb5-9d2250f248fc",
   "metadata": {},
   "outputs": [
    {
     "data": {
      "image/png": "[encoded data removed]",
      "text/plain": [
       "<Figure size 864x216 with 4 Axes>"
      ]
     },
     "metadata": {},
     "output_type": "display_data"
    }
   ],
   "source": [
    "# predict target using normalized features\n",
    "m = X_train.shape[0]\n",
    "yp = np.zeros(m)\n",
    "for i in range(m):\n",
    "    yp[i] = np.dot(X_train[i], w_final) + b_final\n",
    "    \n",
    "# plot predictions versus original features\n",
    "fig, ax = plt.subplots(1, 4, figsize=(12,3), sharey=True)\n",
    "\n",
    "for i in range(X_train.shape[1]):\n",
    "    ax[i].scatter(X_train[:,i], y_train, label='target')\n",
    "    ax[i].set_xlabel(df.columns[i])\n",
    "    ax[i].scatter(X_train[:,i], yp, color='orange', label='predict')\n",
    "    \n",
    "ax[0].set_ylabel('Price')\n",
    "ax[0].legend()\n",
    "\n",
    "fig.suptitle('Target versis prediction using Z-scre normalized model')\n",
    "\n",
    "plt.show()"
   ]
  },
  {
   "cell_type": "code",
   "execution_count": 12,
   "id": "5d434ad7-7b1e-4837-b0bc-0afa7ad75ccd",
   "metadata": {},
   "outputs": [
    {
     "data": {
      "image/png": "[encoded data removed]",
      "text/plain": [
       "<Figure size 864x288 with 2 Axes>"
      ]
     },
     "metadata": {},
     "output_type": "display_data"
    }
   ],
   "source": [
    "# plot cost versus iteration\n",
    "fig, ax = plt.subplots(1, 2, constrained_layout=True, figsize=(12,4))\n",
    "\n",
    "# all J_hist\n",
    "ax[0].plot(J_hist)\n",
    "ax[0].set_title('Cost vs Iteration')\n",
    "ax[0].set_ylabel('Cost')\n",
    "ax[0].set_xlabel('Iteration')\n",
    "\n",
    "# end of J_hist\n",
    "ax[1].plot(J_hist[200:])\n",
    "ax[1].set_title('Cost vs Iteration')\n",
    "ax[1].set_ylabel('Cost')\n",
    "ax[1].set_xlabel('Iteration')\n",
    "\n",
    "\n",
    "\n",
    "plt.show()"
   ]
  },
  {
   "cell_type": "markdown",
   "id": "85954661-f9dc-4957-a93f-6a6455744d52",
   "metadata": {},
   "source": [
    "Predictions are fairly off and the cost function looks jank!"
   ]
  },
  {
   "cell_type": "markdown",
   "id": "e6ef6d87-32d8-4200-9023-b0de18e6ac30",
   "metadata": {},
   "source": [
    "# 7 My Attempt at Improving Features:\n",
    "- z-normalize features\n",
    "- increase iterations from 1000 to 10000\n",
    "- increase alpha from 5.0e-7 to 1.0e-3"
   ]
  },
  {
   "cell_type": "code",
   "execution_count": 13,
   "id": "8571f056-732f-451d-b127-b9d11120bddd",
   "metadata": {},
   "outputs": [],
   "source": [
    "def zscore_normalize_features(X):\n",
    "    \"\"\"\n",
    "    computes X, zscore normalized by column\n",
    "    Args:\n",
    "        X (ndarray (m,n))     : input data, m examples, n features\n",
    "    Returns:\n",
    "        X_norm (ndarray (m,n)): input normalized by column\n",
    "        mu (ndarray (n,))     : mean of each feature\n",
    "        sigma (ndarray (n,))  : standard deviation of each feature\n",
    "    \"\"\"\n",
    "    # find the mean/standard deviation of each column/feature\n",
    "    mu = np.mean(X, axis=0)            # mu will have shape (n,)\n",
    "    sigma = np.std(X, axis=0)          # sigma will have shape (n,)\n",
    "    \n",
    "    # element-wise, subtract mu for that column from each example, divide by std for that column\n",
    "    X_norm = (X - mu) / sigma\n",
    "    \n",
    "    return (X_norm, mu, sigma)    "
   ]
  },
  {
   "cell_type": "code",
   "execution_count": 14,
   "id": "ce4e1428-ea92-480d-a745-d5de4bd9585b",
   "metadata": {},
   "outputs": [],
   "source": [
    "X_norm, X_mu, X_sigma = zscore_normalize_features(X_train)"
   ]
  },
  {
   "cell_type": "code",
   "execution_count": 25,
   "id": "97e32ef4-8e4e-49d9-b0bb-2e1db807d233",
   "metadata": {},
   "outputs": [
    {
     "name": "stdout",
     "output_type": "stream",
     "text": [
      "Iteration:    0: Cost 49390.72\n",
      "Iteration: 1000: Cost  5738.04\n",
      "Iteration: 2000: Cost   773.32\n",
      "Iteration: 3000: Cost   104.53\n",
      "Iteration: 4000: Cost    14.13\n",
      "Iteration: 5000: Cost     1.91\n",
      "Iteration: 6000: Cost     0.26\n",
      "Iteration: 7000: Cost     0.03\n",
      "Iteration: 8000: Cost     0.00\n",
      "Iteration: 9000: Cost     0.00\n",
      "b,w found by gradient descent: -0.00, [ 0.20396569  0.00374919 -0.0112487  -0.0658614 ]\n"
     ]
    }
   ],
   "source": [
    "# initialize parameters\n",
    "initial_w = np.zeros(df.shape[1]-1)\n",
    "initial_b = 0\n",
    "\n",
    "# change gradient descent settings \n",
    "iterations = 10000\n",
    "alpha = 1.0e-3\n",
    "\n",
    "# run gradient descent \n",
    "w_norm, b_norm, J_hist = gradient_descent(X_norm, y_train, initial_w, initial_b, compute_cost, compute_gradient, alpha, iterations)\n",
    "\n",
    "print(f'b,w found by gradient descent: {b_final:0.2f}, {w_final:}')"
   ]
  },
  {
   "cell_type": "code",
   "execution_count": 16,
   "id": "bc17e918-7911-485a-988a-996135afb1ee",
   "metadata": {},
   "outputs": [],
   "source": [
    "def predict(x, w, b): \n",
    "    \"\"\"\n",
    "    single predict using linear regression\n",
    "    Args:\n",
    "      x (ndarray): Shape (n,) example with multiple features\n",
    "      w (ndarray): Shape (n,) model parameters   \n",
    "      b (scalar):             model parameter \n",
    "      \n",
    "    Returns:\n",
    "      p (scalar):  prediction\n",
    "    \"\"\"\n",
    "    p = np.dot(x, w) + b     \n",
    "    return p    "
   ]
  },
  {
   "cell_type": "code",
   "execution_count": 17,
   "id": "e0e75b1a-e724-4294-a961-0e430717f6da",
   "metadata": {},
   "outputs": [
    {
     "data": {
      "text/plain": [
       "array([459.98629621, 231.98843779, 177.98596519])"
      ]
     },
     "execution_count": 17,
     "metadata": {},
     "output_type": "execute_result"
    }
   ],
   "source": [
    "predict(X_norm, w_norm, b_norm)"
   ]
  },
  {
   "cell_type": "code",
   "execution_count": 18,
   "id": "f53c635e-595b-4422-bac5-94cfdca7ce7f",
   "metadata": {},
   "outputs": [
    {
     "data": {
      "text/plain": [
       "array([426.18530497, 286.16747201, 171.46763087])"
      ]
     },
     "execution_count": 18,
     "metadata": {},
     "output_type": "execute_result"
    }
   ],
   "source": [
    "yp"
   ]
  },
  {
   "cell_type": "code",
   "execution_count": 19,
   "id": "68505677-2e60-4771-9092-52858808f2e9",
   "metadata": {},
   "outputs": [
    {
     "data": {
      "image/png": "[encoded data removed]",
      "text/plain": [
       "<Figure size 864x216 with 4 Axes>"
      ]
     },
     "metadata": {},
     "output_type": "display_data"
    }
   ],
   "source": [
    "# predict target using normalized features\n",
    "m = X_norm.shape[0]\n",
    "yp = np.zeros(m)\n",
    "for i in range(m):\n",
    "    yp[i] = np.dot(X_norm[i], w_norm) + b_norm\n",
    "    \n",
    "# plot predictions versus original features\n",
    "fig, ax = plt.subplots(1, 4, figsize=(12,3), sharey=True)\n",
    "\n",
    "for i in range(X_norm.shape[1]):\n",
    "    ax[i].scatter(X_train[:,i], y_train, label='target')\n",
    "    ax[i].set_xlabel(df.columns[i])\n",
    "    ax[i].scatter(X_train[:,i], yp, color='orange', label='predict')\n",
    "    \n",
    "ax[0].set_ylabel('Price')\n",
    "ax[0].legend()\n",
    "\n",
    "fig.suptitle('Target versis prediction using Z-scre normalized model')\n",
    "\n",
    "plt.show()"
   ]
  },
  {
   "cell_type": "code",
   "execution_count": 20,
   "id": "18072033-1262-49ff-ba02-c60ee5e6b09a",
   "metadata": {},
   "outputs": [
    {
     "data": {
      "image/png": "[encoded data removed]",
      "text/plain": [
       "<Figure size 864x288 with 2 Axes>"
      ]
     },
     "metadata": {},
     "output_type": "display_data"
    }
   ],
   "source": [
    "# plot cost versus iteration\n",
    "fig, ax = plt.subplots(1, 2, constrained_layout=True, figsize=(12,4))\n",
    "\n",
    "# all J_hist\n",
    "ax[0].plot(J_hist)\n",
    "ax[0].set_title('Cost vs Iteration')\n",
    "ax[0].set_ylabel('Cost')\n",
    "ax[0].set_xlabel('Iteration')\n",
    "\n",
    "# end of J_hist\n",
    "ax[1].plot(J_hist[200:])\n",
    "ax[1].set_title('Cost vs Iteration')\n",
    "ax[1].set_ylabel('Cost')\n",
    "ax[1].set_xlabel('Iteration')\n",
    "\n",
    "\n",
    "\n",
    "plt.show()"
   ]
  },
  {
   "cell_type": "code",
   "execution_count": 31,
   "id": "5220d746-77ed-412a-8317-a70743deb0ca",
   "metadata": {},
   "outputs": [
    {
     "name": "stdout",
     "output_type": "stream",
     "text": [
      "expected: [460 232 178]\n",
      "predicted: [459.99 231.99 177.99]\n"
     ]
    }
   ],
   "source": [
    "print(f'expected: {y_train}')\n",
    "print(f'predicted: {yp.round(2)}')"
   ]
  }
 ],
 "metadata": {
  "kernelspec": {
   "display_name": "Python 3 (ipykernel)",
   "language": "python",
   "name": "python3"
  },
  "language_info": {
   "codemirror_mode": {
    "name": "ipython",
    "version": 3
   },
   "file_extension": ".py",
   "mimetype": "text/x-python",
   "name": "python",
   "nbconvert_exporter": "python",
   "pygments_lexer": "ipython3",
   "version": "3.9.16"
  }
 },
 "nbformat": 4,
 "nbformat_minor": 5
}
